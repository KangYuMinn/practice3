{
 "cells": [
  {
   "cell_type": "code",
   "execution_count": 1,
   "id": "01e505a9",
   "metadata": {},
   "outputs": [
    {
     "name": "stdout",
     "output_type": "stream",
     "text": [
      "숫자 두개를 입력해주세요12 as\n",
      "숫자를 입력하시오\n",
      "calculation completed\n"
     ]
    }
   ],
   "source": [
    "try:\n",
    "    a, b = map(int, input(\"숫자 두개를 입력해주세요\").split())\n",
    "    c = a / b\n",
    "except ZeroDivisionError:\n",
    "    print(\"입력한 숫자를 확인해주세요.\")\n",
    "\n",
    "except ValueError:\n",
    "    print(\"숫자를 입력하시오\")\n",
    "else:\n",
    "    print(f'{a} / {b} = {c}')\n",
    "finally:\n",
    "    print(\"calculation completed\")"
   ]
  },
  {
   "cell_type": "markdown",
   "id": "87fc63a6",
   "metadata": {},
   "source": [
    "### try:\n",
    "input으로 a와 b를 입력받는다. split()로 띄어쓰기를 통해 두 숫자를 구분해 리스트를 만들어준다. int는 입력 받은 것을 정수형으로 변환해준다. 그 다음, a를 b로 나누어 c를 구한다.\n",
    "\n",
    "### except ZeroDivisionError:\n",
    "0으로 나누었을 때의 문제를 예외로 두어 b 값에 0이 입력될 경우, \"입력한 숫자를 확인해주세요\"를 출력한다.\n",
    "\n",
    "### except ValueError:\n",
    "숫자를 입력하지않은 경우에 생기는 문제를 예외로 두는 것이다. 문자를 입력했을 때, \"숫자를 입력하시오\"를 출력한다.\n",
    "\n",
    "### else:\n",
    "예외가 발생하지 않을 경우 실행된다.\n",
    "\n",
    "### finally:\n",
    "항상 실행된다."
   ]
  }
 ],
 "metadata": {
  "kernelspec": {
   "display_name": "Python 3 (ipykernel)",
   "language": "python",
   "name": "python3"
  },
  "language_info": {
   "codemirror_mode": {
    "name": "ipython",
    "version": 3
   },
   "file_extension": ".py",
   "mimetype": "text/x-python",
   "name": "python",
   "nbconvert_exporter": "python",
   "pygments_lexer": "ipython3",
   "version": "3.11.7"
  }
 },
 "nbformat": 4,
 "nbformat_minor": 5
}
